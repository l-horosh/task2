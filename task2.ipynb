{
  "cells": [
    {
      "cell_type": "code",
      "execution_count": null,
      "metadata": {
        "colab": {
          "base_uri": "https://localhost:8080/"
        },
        "id": "Hj9qWBhBvEl5",
        "outputId": "a542c872-e393-4646-a144-b07546c6e0ab"
      },
      "outputs": [
        {
          "name": "stdout",
          "output_type": "stream",
          "text": [
            "Enter url of a medium article: https://medium.com/@subashgandyer/papa-what-is-a-neural-network-c5e5cc427c7\n",
            "Creating filename: papa-what-is-a-neural-network-c5e5cc427c7\n",
            "File saved in directory scraped_articles/papa-what-is-a-neural-network-c5e5cc427c7.txt\n"
          ]
        }
      ],
      "source": [
        "# My name is Khoroshilova Elizaveta and this is my Task 2 submission\n",
        "# Url: https://medium.com/@subashgandyer/papa-what-is-a-neural-network-c5e5cc427c7\n",
        "import os\n",
        "import sys\n",
        "import requests\n",
        "import re\n",
        "\n",
        "# Code here - Import BeautifulSoup library\n",
        "from bs4 import BeautifulSoup\n",
        "# Code ends here\n",
        "\n",
        "# function to get the html source text of the medium article\n",
        "def get_page():\n",
        "    global url\n",
        "\n",
        "    # Code here - Ask the user to input \"Enter url of a medium article: \" and collect it in url\n",
        "    url = input(\"Enter url of a medium article: \")\n",
        "    # Code ends here\n",
        "\n",
        "    # handling possible error\n",
        "    if not re.match(r'https?://medium.com/', url):\n",
        "        print('Please enter a valid website, or make sure it is a medium article')\n",
        "        sys.exit(1)\n",
        "\n",
        "    # Code here - Call get method in requests object, pass url and collect it in res\n",
        "    res = requests.get(url)\n",
        "    # Code ends here\n",
        "\n",
        "    res.raise_for_status()\n",
        "    soup = BeautifulSoup(res.text, 'html.parser')\n",
        "    return soup\n",
        "\n",
        "# function to remove all the html tags and replace some with specific strings\n",
        "def clean(text):\n",
        "    rep = {\"<br>\": \"\\n\", \"<br/>\": \"\\n\", \"<li>\": \"\\n\"}\n",
        "    rep = dict((re.escape(k), v) for k, v in rep.items())\n",
        "    pattern = re.compile(\"|\".join(rep.keys()))\n",
        "    text = pattern.sub(lambda m: rep[re.escape(m.group(0))], text)\n",
        "    text = re.sub(r'<(.*?)\\>', '', text)\n",
        "    return text\n",
        "\n",
        "\n",
        "def collect_text(soup):\n",
        "    text = f'url: {url}\\n\\n'\n",
        "    para_text = soup.find_all('p')\n",
        "    # print(f\"paragraphs text = \\n {para_text}\")\n",
        "    for para in para_text:\n",
        "        text += f\"{para.text}\\n\\n\"\n",
        "    return text\n",
        "\n",
        "# function to save file in the current directory\n",
        "def save_file(text):\n",
        "    if not os.path.exists('./scraped_articles'):\n",
        "        os.mkdir('./scraped_articles')\n",
        "\n",
        "    name = url.split(\"/\")[-1].split(\"?\")[0]\n",
        "    if not name:\n",
        "        name = url.split(\"/\")[-2]\n",
        "\n",
        "    print(f\"Creating filename: {name}\")\n",
        "    fname = f'scraped_articles/{name}.txt'\n",
        "\n",
        "    # Code here - write a file using with (2 lines)\n",
        "    with open(fname, 'w', encoding='utf-8') as f:\n",
        "        f.write(text)\n",
        "    # Code ends here\n",
        "\n",
        "    print(f'File saved in directory {fname}')\n",
        "\n",
        "\n",
        "if __name__ == '__main__':\n",
        "    text = collect_text(get_page())\n",
        "    save_file(text)"
      ]
    }
  ],
  "metadata": {
    "colab": {
      "provenance": []
    },
    "kernelspec": {
      "display_name": "Python 3",
      "name": "python3"
    },
    "language_info": {
      "name": "python"
    }
  },
  "nbformat": 4,
  "nbformat_minor": 0
}
